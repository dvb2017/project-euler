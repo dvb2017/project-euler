{
 "cells": [
  {
   "cell_type": "markdown",
   "metadata": {},
   "source": [
    "# Problem 27"
   ]
  },
  {
   "cell_type": "code",
   "execution_count": null,
   "metadata": {},
   "outputs": [],
   "source": [
    "prime_list = [2]\n",
    "my_val = 3\n",
    "while my_val < 1000:\n",
    "    for x in range(2,my_val):\n",
    "        my_check = my_val % x\n",
    "        if my_check == 0:\n",
    "            break\n",
    "        elif x + 1 == my_val:\n",
    "            prime_list.append(my_val)\n",
    "            print(my_val)\n",
    "            break\n",
    "    my_val += 1 \n",
    "prime_list"
   ]
  },
  {
   "cell_type": "code",
   "execution_count": 84,
   "metadata": {},
   "outputs": [
    {
     "name": "stdout",
     "output_type": "stream",
     "text": [
      "62\n",
      "[-61, 971]\n",
      "-59231\n"
     ]
    }
   ],
   "source": [
    "n = 0\n",
    "a = -79\n",
    "b = prime_list\n",
    "prime_count = 0\n",
    "high_prime = 0\n",
    "factors = []\n",
    "value = 4\n",
    "not_prime = 0\n",
    "while a < 79:\n",
    "    for y in b:\n",
    "        while n <= abs(a):\n",
    "            value = n**2 + n*a + y\n",
    "            if value > 3:\n",
    "                for x in range(2, value):\n",
    "                    check = value % x\n",
    "                    if check == 0:\n",
    "                        not_prime = 1\n",
    "                        break\n",
    "                    elif x + 1 == value:\n",
    "                        prime_count += 1\n",
    "                        break\n",
    "                    else: \n",
    "                        continue\n",
    "            if not_prime == 1:\n",
    "                not_prime = 0\n",
    "                break\n",
    "            else:\n",
    "                n += 1\n",
    "        if prime_count > high_prime:\n",
    "            high_prime = prime_count\n",
    "            factors = []\n",
    "            factors = [a,y]\n",
    "        prime_count = 0\n",
    "        n = 0\n",
    "    a += 1\n",
    "print(high_prime)\n",
    "print(factors)\n",
    "print(factors[0]*factors[1])"
   ]
  }
 ],
 "metadata": {
  "kernelspec": {
   "display_name": "Python 3",
   "language": "python",
   "name": "python3"
  },
  "language_info": {
   "codemirror_mode": {
    "name": "ipython",
    "version": 3
   },
   "file_extension": ".py",
   "mimetype": "text/x-python",
   "name": "python",
   "nbconvert_exporter": "python",
   "pygments_lexer": "ipython3",
   "version": "3.7.6"
  }
 },
 "nbformat": 4,
 "nbformat_minor": 4
}
