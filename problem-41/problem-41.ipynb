{
 "cells": [
  {
   "cell_type": "markdown",
   "metadata": {},
   "source": [
    "# Problem 41"
   ]
  },
  {
   "cell_type": "code",
   "execution_count": 38,
   "metadata": {},
   "outputs": [],
   "source": [
    "import itertools "
   ]
  },
  {
   "cell_type": "code",
   "execution_count": 45,
   "metadata": {},
   "outputs": [
    {
     "data": {
      "text/plain": [
       "7"
      ]
     },
     "execution_count": 45,
     "metadata": {},
     "output_type": "execute_result"
    }
   ],
   "source": [
    "max_integers = 0\n",
    "int_list = list(range(1,10))\n",
    "int_list.sort(reverse=True)\n",
    "for x in int_list:\n",
    "    my_sum = 0\n",
    "    new_range = range(1,x+1)\n",
    "    for y in new_range:\n",
    "        my_sum += y\n",
    "    three_check = my_sum % 3\n",
    "    if three_check > 0:\n",
    "        max_integers = x\n",
    "        break\n",
    "max_integers"
   ]
  },
  {
   "cell_type": "code",
   "execution_count": 46,
   "metadata": {},
   "outputs": [],
   "source": [
    "combos = list(itertools.permutations(range(1,8), 7))\n",
    "numbers = []\n",
    "for x in combos:\n",
    "    string = ''\n",
    "    number = 0 \n",
    "    for y in range(0,7):\n",
    "        string += str(x[y])\n",
    "    \n",
    "    number = int(string)\n",
    "    numbers.append(number)\n",
    "numbers.sort(reverse=True)"
   ]
  },
  {
   "cell_type": "code",
   "execution_count": 47,
   "metadata": {},
   "outputs": [
    {
     "data": {
      "text/plain": [
       "7652413"
      ]
     },
     "execution_count": 47,
     "metadata": {},
     "output_type": "execute_result"
    }
   ],
   "source": [
    "high_prime = 0\n",
    "for x in numbers:\n",
    "    y = 2\n",
    "    while y <= x / 2:\n",
    "        remainder = x % y\n",
    "        if remainder == 0:\n",
    "            break\n",
    "        elif y + 1 >= x / 2:\n",
    "            high_prime = x\n",
    "            break\n",
    "        else:\n",
    "            y+=1\n",
    "    if high_prime > 0:\n",
    "        break\n",
    "high_prime"
   ]
  }
 ],
 "metadata": {
  "kernelspec": {
   "display_name": "Python 3",
   "language": "python",
   "name": "python3"
  },
  "language_info": {
   "codemirror_mode": {
    "name": "ipython",
    "version": 3
   },
   "file_extension": ".py",
   "mimetype": "text/x-python",
   "name": "python",
   "nbconvert_exporter": "python",
   "pygments_lexer": "ipython3",
   "version": "3.7.6"
  }
 },
 "nbformat": 4,
 "nbformat_minor": 4
}
