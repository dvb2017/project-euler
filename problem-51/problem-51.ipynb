{
 "cells": [
  {
   "cell_type": "markdown",
   "metadata": {},
   "source": [
    "# Problem 51"
   ]
  },
  {
   "cell_type": "code",
   "execution_count": 7,
   "metadata": {},
   "outputs": [],
   "source": [
    "def is_prime(n):\n",
    "    if n % 2 == 0 or n % 3 == 0:\n",
    "        return False\n",
    "    for i in range(5, int(n**0.5) + 1, 6):\n",
    "        if n % i == 0 or n % (i + 2) == 0:\n",
    "            return False\n",
    "    return True\n",
    "\n",
    "prime_list = []\n",
    "x = 56003\n",
    "while x <= 1000000:\n",
    "    if is_prime(x):\n",
    "        prime_list.append(x)\n",
    "    x += 1\n",
    "    "
   ]
  },
  {
   "cell_type": "code",
   "execution_count": 38,
   "metadata": {},
   "outputs": [],
   "source": [
    "repeating_list = []\n",
    "for x in prime_list:\n",
    "    prime_string = str(x)[0:-1]\n",
    "    if prime_string.count('0') >= 2:\n",
    "        repeating_list.append(x)\n",
    "    elif prime_string.count('1') >= 2:\n",
    "        repeating_list.append(x)\n",
    "    elif prime_string.count('2') >= 2:\n",
    "        repeating_list.append(x)"
   ]
  },
  {
   "cell_type": "code",
   "execution_count": 44,
   "metadata": {},
   "outputs": [
    {
     "data": {
      "text/plain": [
       "121313"
      ]
     },
     "execution_count": 44,
     "metadata": {},
     "output_type": "execute_result"
    }
   ],
   "source": [
    "solution = 0\n",
    "for x in repeating_list:\n",
    "    x_string = str(x)[0:-1]\n",
    "    for y in range(0,3):\n",
    "        family_check = 0\n",
    "        not_prime = 0\n",
    "        if x_string.count(str(y)) >= 2:\n",
    "            for z in range(0,10):\n",
    "                new_string = x_string.replace(str(y), str(z))+str(x)[-1]\n",
    "                new_integer = int(new_string)\n",
    "                if new_integer in prime_list:\n",
    "                    family_check += 1\n",
    "                else:\n",
    "                    not_prime +=1\n",
    "                if not_prime >= 3:\n",
    "                    break\n",
    "\n",
    "        if family_check == 8:\n",
    "            solution = x\n",
    "            break\n",
    "solution"
   ]
  }
 ],
 "metadata": {
  "kernelspec": {
   "display_name": "Python 3",
   "language": "python",
   "name": "python3"
  },
  "language_info": {
   "codemirror_mode": {
    "name": "ipython",
    "version": 3
   },
   "file_extension": ".py",
   "mimetype": "text/x-python",
   "name": "python",
   "nbconvert_exporter": "python",
   "pygments_lexer": "ipython3",
   "version": "3.7.6"
  }
 },
 "nbformat": 4,
 "nbformat_minor": 4
}
